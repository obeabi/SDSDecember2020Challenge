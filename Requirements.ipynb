{
  "nbformat": 4,
  "nbformat_minor": 0,
  "metadata": {
    "colab": {
      "name": "Requirements.ipynb",
      "provenance": []
    },
    "kernelspec": {
      "name": "python3",
      "display_name": "Python 3"
    }
  },
  "cells": [
    {
      "cell_type": "markdown",
      "metadata": {
        "id": "QGXSNX52BJoI"
      },
      "source": [
        "# SDS Challenge #4 - Hostel Listings\r\n",
        "\r\n",
        "\r\n",
        "Problem Statement\r\n",
        "Welcome Data Scientist to the 4th SDS Club Monthly Challenge! In this month's challenge you have been hired by a hostel company to help them determine a fair price for their new hostels based on previous hostel data. Your mission to predict the price of each hostel based on the data provided.\r\n",
        "\r\n",
        "Evaluation\r\n",
        "$$\\begin{equation*}\r\n",
        "MSE = {\\frac{1}{n}\\sum_{i=1}^{n}(y_{i} - \\hat{y}_{i})^{2}}\r\n",
        "\\end{equation*}$$\r\n",
        "\r\n",
        "```\r\n",
        "# This is formatted as code\r\n",
        "```\r\n",
        "\r\n"
      ]
    },
    {
      "cell_type": "markdown",
      "metadata": {
        "id": "e2oQBLmpBQYi"
      },
      "source": [
        "## Understanding the Dataset\r\n",
        "In the dataset there are 65 unique columns. Each column is properly and descriptively named in the dataset.\r\n",
        "\r\n",
        "Dataset Files\r\n",
        "public_listings.csv - Dataset to train and analyze\r\n",
        "pred_listings.csv - Dataset to predict listings' prices"
      ]
    },
    {
      "cell_type": "markdown",
      "metadata": {
        "id": "cwVOUpvSBW9v"
      },
      "source": [
        "## Submission\r\n",
        "All submissions should be sent through email to challenges@superdatascience.com. When submitting, the file should contain predictions made on the pred_listings.csv file, and it should have the following format:"
      ]
    },
    {
      "cell_type": "code",
      "metadata": {
        "id": "T9nMtykVBjuY"
      },
      "source": [
        "150.00\r\n",
        "95.00\r\n",
        "80.00\r\n",
        "105.00\r\n",
        "72.00"
      ],
      "execution_count": null,
      "outputs": []
    },
    {
      "cell_type": "markdown",
      "metadata": {
        "id": "ISRaJrWHBoDf"
      },
      "source": [
        "## Acknowledgements\r\n",
        "The data was scraped and collected by Inside Airbnb from publicly available information on the Airbnb site."
      ]
    }
  ]
}